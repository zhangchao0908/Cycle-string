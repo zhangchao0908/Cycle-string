    import sys
    n = int(sys.stdin.readline())
    A = sys.stdin.readline()
    B = sys.stdin.readline()
    dif = [int(A[2*i] != B[2*i]) for i in range(n)]
    hash = {i:0 for i in range(n)}
    for i in range(n-2):
     
        if dif[i]:
            dif[i] = 0
            dif[i+1] = 0 if dif[i+1] else 1
            dif[i+2] = 0 if dif[i+2] else 1
            hash[i] += 1
     
    if (dif[-1] or dif[-2]) and not n%3:
        print('Impossible')
    else:
        start = None
        if dif[-2] and not dif[-1]:
            start = n-2
        elif not dif[-2] and dif[-1]:
            start = n-1
        elif dif[-2] and dif[-1]:
            hash[n-2] += 1
            start = 0
        if start is not None:
            if n%3 == 1:
                hash[(start+1)%n] += 1
                for i in range(2*(n//3 + 1)):
                    hash[start] += 1
                    start = (start+3)%n
            if n%3 == 2:
                hash[start] += 1
                start = (start+1)%n
                for i in range(2*(n//3 + 1)):
                    hash[start] += 1
                    start = (start+3)%n
        ans = 0
        for k, v in hash.items():
            ans += v%2
        print(ans)
